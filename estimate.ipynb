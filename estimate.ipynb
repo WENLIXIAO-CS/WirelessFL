{
 "cells": [
  {
   "cell_type": "markdown",
   "metadata": {},
   "source": [
    "# Estimate $\\frac{\\alpha}{\\beta}$"
   ]
  },
  {
   "cell_type": "code",
   "execution_count": null,
   "metadata": {},
   "outputs": [],
   "source": [
    "## a bit of setup\n",
    "\n",
    "import os\n",
    "import numpy as np\n",
    "from os import listdir\n",
    "import matplotlib.pyplot as plt\n",
    "from src.utils.log_utils import get_name\n",
    "from scipy.ndimage import gaussian_filter1d\n",
    "from src.utils.file_utils import convert_dict_2_json, convert_json_2_dict\n",
    "\n",
    "%load_ext autoreload\n",
    "%autoreload 2\n",
    "\n",
    "CURRENT_DIR = os.getcwd()\n",
    "LOG_DIR = os.path.join(CURRENT_DIR, 'log')\n",
    "GRAD_DIR = os.path.join(CURRENT_DIR, 'cache/grad')"
   ]
  },
  {
   "cell_type": "markdown",
   "metadata": {},
   "source": [
    "Helper Functions"
   ]
  },
  {
   "cell_type": "code",
   "execution_count": null,
   "metadata": {},
   "outputs": [],
   "source": [
    "def first_upper(l, b):\n",
    "    for i, x in enumerate(l):\n",
    "        if x >= b:\n",
    "            return i\n",
    "    return len(l)-1\n",
    "\n",
    "def first_lower(l, b):\n",
    "    for i, x in enumerate(l):\n",
    "        if x <= b:\n",
    "            return i\n",
    "    return len(l)-1   \n",
    "\n",
    "%matplotlib inline\n",
    "# plt.title(\"mnist 1-7 niid, system heter (with rp)\")\n",
    "def plot_figure(file_list, **kwargs):\n",
    "    \"\"\"Plot PK/Uniform figure\n",
    "        - file_list\n",
    "    \"\"\"\n",
    "    filter = kwargs.pop(\"filter\", False)\n",
    "    f_filter = kwargs.pop(\"f_filter\", 5)\n",
    "    use_time = kwargs.pop(\"use_time\", False)\n",
    "    algo_list = ['pk', 'uniform']\n",
    "    for algo in algo_list:\n",
    "\n",
    "        loss = np.mean([f['global_loss'] for f in file_list[algo]], axis=0)\n",
    "        time = np.mean([f['round_time'] for f in file_list[algo]], axis=0)\n",
    "        acc = np.mean([f['acc'] for f in file_list[algo]], axis=0)\n",
    "\n",
    "        for i in range(1,len(time)):\n",
    "            time[i] += time[i-1]\n",
    "      \n",
    "        if filter:\n",
    "            loss = gaussian_filter1d(loss, sigma=f_filter)\n",
    "        if use_time:\n",
    "            plt.plot(time,loss)\n",
    "        else:\n",
    "            plt.plot(loss)\n",
    "            \n",
    "    plt.legend(algo_list)\n",
    "    print('pk %d ; uniform %d' % (len(file_list['pk']), len(file_list['uniform'])))\n",
    "    \n",
    "plt.show()"
   ]
  },
  {
   "cell_type": "markdown",
   "metadata": {},
   "source": [
    "#### config settings"
   ]
  },
  {
   "cell_type": "code",
   "execution_count": null,
   "metadata": {},
   "outputs": [],
   "source": [
    "PATH = 'test'\n",
    "\n",
    "SMOOTH = True\n",
    "f_smooth = 3\n",
    "\n",
    "pk_config = {\n",
    "    'algo': 'weighted',\n",
    "    'decay' : 'round',\n",
    "    'dataset'               : 'emnist_niid1_7_0_N1',\n",
    "    'model'                 : 'logistic',\n",
    "    'num_round'             : 10,\n",
    "    'clients_per_round'     : 1,\n",
    "    'batch_size'            : 24,\n",
    "    'num_epoch'             : 50,\n",
    "    'lr'                    : 0.1,\n",
    "    'without_r'             : False,\n",
    "    'num_clients'           : 1,\n",
    "    'c0' : 5,\n",
    "}\n",
    "\n",
    "uniform_config = {\n",
    "'algo': 'uniform',\n",
    "    'decay' : 'round',\n",
    "    'dataset'               : 'emnist_niid1_7_0_N1',\n",
    "    'model'                 : 'logistic',\n",
    "    'num_round'             : 10,\n",
    "    'clients_per_round'     : 1,\n",
    "    'batch_size'            : 24,\n",
    "    'num_epoch'             : 50,\n",
    "    'lr'                    : 0.1,\n",
    "    'without_r'             : False,\n",
    "    'num_clients'           : 1,\n",
    "    'c0' : 5\n",
    "}\n"
   ]
  },
  {
   "cell_type": "markdown",
   "metadata": {},
   "source": [
    "#### Next step is to extract File\n",
    "\n",
    "- get filename\n",
    "- retrival and store file"
   ]
  },
  {
   "cell_type": "code",
   "execution_count": null,
   "metadata": {},
   "outputs": [],
   "source": [
    "file_list = {\n",
    "    'pk'      : [],\n",
    "    'uniform' : [],\n",
    "}\n",
    "\n",
    "cnt1, cnt2 = 0, 0\n",
    "for time_setting in range(1,2):\n",
    "    for seed in range(0,7):\n",
    "        pk_config['time_seed'] = time_setting\n",
    "        pk_config['seed'] = seed \n",
    "        uniform_config['time_seed'] = time_setting\n",
    "        uniform_config['seed'] = seed \n",
    "\n",
    "        pk_name = get_name(pk_config)\n",
    "        uniform_name = get_name(uniform_config)\n",
    "\n",
    "        try:\n",
    "            file_list['pk'].append(convert_json_2_dict(pk_name, os.path.join(LOG_DIR, PATH)))\n",
    "            cnt1 += 1\n",
    "        except:\n",
    "            print(pk_name , \"not exists\")\n",
    "\n",
    "        try:\n",
    "            file_list['uniform'].append(convert_json_2_dict(uniform_name, os.path.join(LOG_DIR, PATH)))\n",
    "            cnt2 += 1\n",
    "        except:\n",
    "            print(uniform_name, \"not exists\")\n",
    "print(cnt1, cnt2)\n"
   ]
  },
  {
   "cell_type": "markdown",
   "metadata": {},
   "source": [
    "#### Then plot the figure"
   ]
  },
  {
   "cell_type": "code",
   "execution_count": null,
   "metadata": {},
   "outputs": [],
   "source": [
    "%matplotlib inline\n",
    "\n",
    "\n",
    "plot_figure(file_list, filter=True, f_filter=5)"
   ]
  },
  {
   "cell_type": "markdown",
   "metadata": {},
   "source": [
    "#### Estimation\n",
    "\n",
    "- Extract gradient \n",
    "- calc $\\frac{\\alpha}{\\beta}$"
   ]
  },
  {
   "cell_type": "code",
   "execution_count": null,
   "metadata": {},
   "outputs": [],
   "source": [
    "def extract_grad(file_list, algo, method):\n",
    "    \"\"\"Extract gradient\n",
    "    \"\"\"\n",
    "    num_clients = file_list['pk'][0]['info']['num_clients']\n",
    "\n",
    "    grads = []\n",
    "    for f in file_list[algo]:\n",
    "        grad_clients = [[] for i in range(num_clients)]\n",
    "        selected_clients = np.array(f['sel_clients'])\n",
    "        gk = np.array(f['gk']) # np.shape (round, client)\n",
    "        \n",
    "        for round, client in enumerate(selected_clients):\n",
    "            for c in client:\n",
    "                grad_clients[c].append( gk[round, c] )\n",
    "        \n",
    "        if method == 'MEAN':\n",
    "            grad = [ np.mean(g) for g in grad_clients ]\n",
    "        elif method == 'MAX':\n",
    "            grad = [ np.max(g) for g in grad_clients ]\n",
    "        elif method == 'FIRST':\n",
    "            grad = [ g[0] for g in grad_clients ]\n",
    "        else:\n",
    "            raise Exception(\"Undefined method\")\n",
    "        \n",
    "        grads.append(grad)\n",
    "\n",
    "    return np.mean(grads, axis=0)"
   ]
  },
  {
   "cell_type": "code",
   "execution_count": null,
   "metadata": {},
   "outputs": [],
   "source": [
    "METHOD = 'MAX'\n",
    "\n",
    "grad_uniform = extract_grad(file_list, 'uniform', METHOD)\n",
    "\n",
    "grad_ret = grad_uniform\n",
    "\n",
    "STORE = True \n",
    "\n",
    "if STORE:\n",
    "    grad_name = get_name(pk_config, name_type='grad')\n",
    "    convert_dict_2_json(grad_ret.tolist(), grad_name, GRAD_DIR)\n",
    "    print(\"saved to %s %s\" % (GRAD_DIR, grad_name))\n"
   ]
  },
  {
   "cell_type": "code",
   "execution_count": null,
   "metadata": {},
   "outputs": [],
   "source": [
    "\n",
    "def get_round(ths, loss, **kwargs):\n",
    "    \"\"\"Get the round no of specific loss value\n",
    "    \"\"\"\n",
    "    method = kwargs.pop('method', 'head')\n",
    "    if method == 'head':\n",
    "        return first_lower(loss, ths)\n",
    "    elif method == 'tail':\n",
    "        return first_upper(reversed(loss), ths)\n",
    "\n",
    "    \n",
    "def estimate(fA, grad_ret, **kwargs):\n",
    "    c0 = []\n",
    "    \n",
    "    num_clients = file_list['pk'][0]['info']['num_clients']\n",
    "    prob_pk = file_list['pk'][0]['pk']\n",
    "\n",
    "    loss1 = np.mean( [ f['loss'] for f in file_list['pk'] ], axis=0)\n",
    "    loss2 = np.mean( [ f['loss'] for f in file_list['uniform'] ], axis=0)\n",
    "\n",
    "    G1 = np.mean([ f['gk'] for f in file_list['pk']], axis=0)\n",
    "    G2 = np.mean([ f['gk'] for f in file_list['uniform']], axis=0)\n",
    "\n",
    "    loss1 = gaussian_filter1d(loss1, sigma=5)\n",
    "    loss2 = gaussian_filter1d(loss2, sigma=5)\n",
    "    \n",
    "    r1 = get_round(fA, loss1, **kwargs)\n",
    "    r2 = get_round(fA, loss2, **kwargs)\n",
    "    \n",
    "    K = file_list['pk'][0]['info']['clients_per_round']\n",
    "\n",
    "    M = np.sum( np.array(prob_pk) * np.square(grad_ret) )\n",
    "    N = num_clients * np.sum( np.square(prob_pk) * np.square(grad_ret) )\n",
    "\n",
    "    c0 = (r1 * N - r2 * M) / (r2 - r1) \n",
    "\n",
    "    print(fA, r1, r2, M, N, c0)\n",
    "    return c0 / K\n"
   ]
  },
  {
   "cell_type": "code",
   "execution_count": null,
   "metadata": {
    "scrolled": true
   },
   "outputs": [],
   "source": [
    "\n",
    "########### ############\n",
    "ret_list = []\n",
    "x = np.linspace(0.555,0.535,5) \n",
    "\n",
    "##############################\n",
    "for fA in x:\n",
    "    ret_list.append( estimate(fA, grad_ret, method='head') )\n",
    "\n",
    "print(\"estimation result:\",np.mean(ret_list))\n"
   ]
  }
 ],
 "metadata": {
  "interpreter": {
   "hash": "bd74a0fcb0676467ede00ea32def06e735a83f3e1dbf7dd9911bbc836a009799"
  },
  "kernelspec": {
   "display_name": "Python 3",
   "language": "python",
   "name": "python3"
  },
  "language_info": {
   "codemirror_mode": {
    "name": "ipython",
    "version": 3
   },
   "file_extension": ".py",
   "mimetype": "text/x-python",
   "name": "python",
   "nbconvert_exporter": "python",
   "pygments_lexer": "ipython3",
   "version": "3.7.13"
  },
  "toc": {
   "base_numbering": 1,
   "nav_menu": {},
   "number_sections": true,
   "sideBar": true,
   "skip_h1_title": false,
   "title_cell": "Table of Contents",
   "title_sidebar": "Contents",
   "toc_cell": false,
   "toc_position": {},
   "toc_section_display": true,
   "toc_window_display": false
  }
 },
 "nbformat": 4,
 "nbformat_minor": 2
}
